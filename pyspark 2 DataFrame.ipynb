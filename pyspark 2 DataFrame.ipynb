{
 "cells": [
  {
   "cell_type": "code",
   "execution_count": 1,
   "id": "simplified-robertson",
   "metadata": {},
   "outputs": [],
   "source": [
    "from pyspark.sql import SparkSession\n",
    "spark=SparkSession.builder.appName('test 2').getOrCreate()"
   ]
  },
  {
   "cell_type": "code",
   "execution_count": 2,
   "id": "specified-catalyst",
   "metadata": {},
   "outputs": [
    {
     "name": "stdout",
     "output_type": "stream",
     "text": [
      "+---------------+-----------+--------+---------------+\n",
      "|Item_Identifier|Item_Weight|Item_MRP|Item_Weight + 2|\n",
      "+---------------+-----------+--------+---------------+\n",
      "|          FDA15|        9.3|249.8092|           11.3|\n",
      "|          DRC01|       5.92| 48.2692|           7.92|\n",
      "|          FDN15|       17.5| 141.618|           19.5|\n",
      "+---------------+-----------+--------+---------------+\n",
      "only showing top 3 rows\n",
      "\n"
     ]
    }
   ],
   "source": [
    "df = spark.read.csv('dataset/test1.csv',header=True,inferSchema=True)\n",
    "df.show(3)"
   ]
  },
  {
   "cell_type": "code",
   "execution_count": 3,
   "id": "roman-latest",
   "metadata": {},
   "outputs": [
    {
     "name": "stdout",
     "output_type": "stream",
     "text": [
      "root\n",
      " |-- Item_Identifier: string (nullable = true)\n",
      " |-- Item_Weight: double (nullable = true)\n",
      " |-- Item_MRP: double (nullable = true)\n",
      " |-- Item_Weight + 2: double (nullable = true)\n",
      "\n"
     ]
    }
   ],
   "source": [
    "df.printSchema()"
   ]
  },
  {
   "cell_type": "code",
   "execution_count": 4,
   "id": "rotary-possibility",
   "metadata": {},
   "outputs": [
    {
     "name": "stdout",
     "output_type": "stream",
     "text": [
      "+---------------+-----------+--------+---------------+\n",
      "|Item_Identifier|Item_Weight|Item_MRP|Item_Weight + 2|\n",
      "+---------------+-----------+--------+---------------+\n",
      "|          FDA15|        9.3|249.8092|           11.3|\n",
      "|          DRC01|       5.92| 48.2692|           7.92|\n",
      "|          FDN15|       17.5| 141.618|           19.5|\n",
      "|          FDX07|       19.2| 182.095|           21.2|\n",
      "|          NCD19|       8.93| 53.8614|          10.93|\n",
      "|          FDP36|     10.395| 51.4008|         12.395|\n",
      "|          FDO10|      13.65| 57.6588|          15.65|\n",
      "|          FDH17|       16.2| 96.9726|           18.2|\n",
      "|          FDU28|       19.2|187.8214|           21.2|\n",
      "|          FDY07|       11.8| 45.5402|           13.8|\n",
      "|          FDA03|       18.5|144.1102|           20.5|\n",
      "|          FDX32|       15.1|145.4786|           17.1|\n",
      "|          FDS46|       17.6|119.6782|           19.6|\n",
      "|          FDF32|      16.35|196.4426|          18.35|\n",
      "|          FDP49|        9.0| 56.3614|           11.0|\n",
      "|          NCB42|       11.8|115.3492|           13.8|\n",
      "|          FDP49|        9.0| 54.3614|           11.0|\n",
      "|          FDU02|      13.35|230.5352|          15.35|\n",
      "|          FDN22|      18.85|250.8724|          20.85|\n",
      "|          NCB30|       14.6|196.5084|           16.6|\n",
      "+---------------+-----------+--------+---------------+\n",
      "only showing top 20 rows\n",
      "\n"
     ]
    }
   ],
   "source": [
    "df.na.drop().show()"
   ]
  },
  {
   "cell_type": "code",
   "execution_count": 5,
   "id": "angry-publication",
   "metadata": {},
   "outputs": [
    {
     "name": "stdout",
     "output_type": "stream",
     "text": [
      "+---------------+-----------+--------+---------------+\n",
      "|Item_Identifier|Item_Weight|Item_MRP|Item_Weight + 2|\n",
      "+---------------+-----------+--------+---------------+\n",
      "|          FDA15|        9.3|249.8092|           11.3|\n",
      "|          DRC01|       5.92| 48.2692|           7.92|\n",
      "|          FDN15|       17.5| 141.618|           19.5|\n",
      "|          FDX07|       19.2| 182.095|           21.2|\n",
      "|          NCD19|       8.93| 53.8614|          10.93|\n",
      "|          FDP36|     10.395| 51.4008|         12.395|\n",
      "|          FDO10|      13.65| 57.6588|          15.65|\n",
      "|          FDH17|       16.2| 96.9726|           18.2|\n",
      "|          FDU28|       19.2|187.8214|           21.2|\n",
      "|          FDY07|       11.8| 45.5402|           13.8|\n",
      "|          FDA03|       18.5|144.1102|           20.5|\n",
      "|          FDX32|       15.1|145.4786|           17.1|\n",
      "|          FDS46|       17.6|119.6782|           19.6|\n",
      "|          FDF32|      16.35|196.4426|          18.35|\n",
      "|          FDP49|        9.0| 56.3614|           11.0|\n",
      "|          NCB42|       11.8|115.3492|           13.8|\n",
      "|          FDP49|        9.0| 54.3614|           11.0|\n",
      "|          FDU02|      13.35|230.5352|          15.35|\n",
      "|          FDN22|      18.85|250.8724|          20.85|\n",
      "|          NCB30|       14.6|196.5084|           16.6|\n",
      "+---------------+-----------+--------+---------------+\n",
      "only showing top 20 rows\n",
      "\n"
     ]
    }
   ],
   "source": [
    "df.na.drop(how=\"any\").show()"
   ]
  },
  {
   "cell_type": "code",
   "execution_count": 6,
   "id": "brief-cedar",
   "metadata": {},
   "outputs": [
    {
     "name": "stdout",
     "output_type": "stream",
     "text": [
      "+---------------+-----------+--------+---------------+\n",
      "|Item_Identifier|Item_Weight|Item_MRP|Item_Weight + 2|\n",
      "+---------------+-----------+--------+---------------+\n",
      "|          FDA15|        9.3|249.8092|           11.3|\n",
      "|          DRC01|       5.92| 48.2692|           7.92|\n",
      "|          FDN15|       17.5| 141.618|           19.5|\n",
      "|          FDX07|       19.2| 182.095|           21.2|\n",
      "|          NCD19|       8.93| 53.8614|          10.93|\n",
      "|          FDP36|     10.395| 51.4008|         12.395|\n",
      "|          FDO10|      13.65| 57.6588|          15.65|\n",
      "|          FDH17|       16.2| 96.9726|           18.2|\n",
      "|          FDU28|       19.2|187.8214|           21.2|\n",
      "|          FDY07|       11.8| 45.5402|           13.8|\n",
      "|          FDA03|       18.5|144.1102|           20.5|\n",
      "|          FDX32|       15.1|145.4786|           17.1|\n",
      "|          FDS46|       17.6|119.6782|           19.6|\n",
      "|          FDF32|      16.35|196.4426|          18.35|\n",
      "|          FDP49|        9.0| 56.3614|           11.0|\n",
      "|          NCB42|       11.8|115.3492|           13.8|\n",
      "|          FDP49|        9.0| 54.3614|           11.0|\n",
      "|          FDU02|      13.35|230.5352|          15.35|\n",
      "|          FDN22|      18.85|250.8724|          20.85|\n",
      "|          NCB30|       14.6|196.5084|           16.6|\n",
      "+---------------+-----------+--------+---------------+\n",
      "only showing top 20 rows\n",
      "\n"
     ]
    }
   ],
   "source": [
    "df.na.drop(how=\"any\",thresh=3).show()"
   ]
  },
  {
   "cell_type": "code",
   "execution_count": 7,
   "id": "becoming-intro",
   "metadata": {},
   "outputs": [
    {
     "name": "stdout",
     "output_type": "stream",
     "text": [
      "+---------------+-----------+--------+---------------+\n",
      "|Item_Identifier|Item_Weight|Item_MRP|Item_Weight + 2|\n",
      "+---------------+-----------+--------+---------------+\n",
      "|          FDA15|        9.3|249.8092|           11.3|\n",
      "|          DRC01|       5.92| 48.2692|           7.92|\n",
      "|          FDN15|       17.5| 141.618|           19.5|\n",
      "|          FDX07|       19.2| 182.095|           21.2|\n",
      "|          NCD19|       8.93| 53.8614|          10.93|\n",
      "|          FDP36|     10.395| 51.4008|         12.395|\n",
      "|          FDO10|      13.65| 57.6588|          15.65|\n",
      "|          FDH17|       16.2| 96.9726|           18.2|\n",
      "|          FDU28|       19.2|187.8214|           21.2|\n",
      "|          FDY07|       11.8| 45.5402|           13.8|\n",
      "|          FDA03|       18.5|144.1102|           20.5|\n",
      "|          FDX32|       15.1|145.4786|           17.1|\n",
      "|          FDS46|       17.6|119.6782|           19.6|\n",
      "|          FDF32|      16.35|196.4426|          18.35|\n",
      "|          FDP49|        9.0| 56.3614|           11.0|\n",
      "|          NCB42|       11.8|115.3492|           13.8|\n",
      "|          FDP49|        9.0| 54.3614|           11.0|\n",
      "|          FDU02|      13.35|230.5352|          15.35|\n",
      "|          FDN22|      18.85|250.8724|          20.85|\n",
      "|          NCB30|       14.6|196.5084|           16.6|\n",
      "+---------------+-----------+--------+---------------+\n",
      "only showing top 20 rows\n",
      "\n"
     ]
    }
   ],
   "source": [
    "df.na.drop(how=\"any\",subset=['Item_Weight']).show()"
   ]
  },
  {
   "cell_type": "code",
   "execution_count": 8,
   "id": "express-batch",
   "metadata": {},
   "outputs": [
    {
     "name": "stdout",
     "output_type": "stream",
     "text": [
      "+---------------+-----------+--------+---------------+\n",
      "|Item_Identifier|Item_Weight|Item_MRP|Item_Weight + 2|\n",
      "+---------------+-----------+--------+---------------+\n",
      "|          FDA15|        9.3|249.8092|           11.3|\n",
      "|          DRC01|       5.92| 48.2692|           7.92|\n",
      "|          FDN15|       17.5| 141.618|           19.5|\n",
      "|          FDX07|       19.2| 182.095|           21.2|\n",
      "|          NCD19|       8.93| 53.8614|          10.93|\n",
      "|          FDP36|     10.395| 51.4008|         12.395|\n",
      "|          FDO10|      13.65| 57.6588|          15.65|\n",
      "|          FDP10|        0.0|107.7622|            0.0|\n",
      "|          FDH17|       16.2| 96.9726|           18.2|\n",
      "|          FDU28|       19.2|187.8214|           21.2|\n",
      "|          FDY07|       11.8| 45.5402|           13.8|\n",
      "|          FDA03|       18.5|144.1102|           20.5|\n",
      "|          FDX32|       15.1|145.4786|           17.1|\n",
      "|          FDS46|       17.6|119.6782|           19.6|\n",
      "|          FDF32|      16.35|196.4426|          18.35|\n",
      "|          FDP49|        9.0| 56.3614|           11.0|\n",
      "|          NCB42|       11.8|115.3492|           13.8|\n",
      "|          FDP49|        9.0| 54.3614|           11.0|\n",
      "|          DRI11|        0.0|113.2834|            0.0|\n",
      "|          FDU02|      13.35|230.5352|          15.35|\n",
      "+---------------+-----------+--------+---------------+\n",
      "only showing top 20 rows\n",
      "\n"
     ]
    }
   ],
   "source": [
    "df2 = df.na.fill(0)\n",
    "df2.show()"
   ]
  },
  {
   "cell_type": "code",
   "execution_count": 9,
   "id": "elect-christopher",
   "metadata": {},
   "outputs": [],
   "source": [
    "from pyspark.ml.feature import Imputer\n",
    "\n",
    "imputer = Imputer(\n",
    "    inputCols=['Item_Weight', 'Item_MRP'], \n",
    "    outputCols=[\"{}_imputed\".format(c) for c in ['Item_Weight', 'Item_MRP']]\n",
    "    ).setStrategy(\"median\")"
   ]
  },
  {
   "cell_type": "code",
   "execution_count": 10,
   "id": "other-forum",
   "metadata": {},
   "outputs": [
    {
     "name": "stdout",
     "output_type": "stream",
     "text": [
      "+---------------+-----------+--------+---------------+-------------------+----------------+\n",
      "|Item_Identifier|Item_Weight|Item_MRP|Item_Weight + 2|Item_Weight_imputed|Item_MRP_imputed|\n",
      "+---------------+-----------+--------+---------------+-------------------+----------------+\n",
      "|          FDA15|        9.3|249.8092|           11.3|                9.3|        249.8092|\n",
      "|          DRC01|       5.92| 48.2692|           7.92|               5.92|         48.2692|\n",
      "|          FDN15|       17.5| 141.618|           19.5|               17.5|         141.618|\n",
      "|          FDX07|       19.2| 182.095|           21.2|               19.2|         182.095|\n",
      "|          NCD19|       8.93| 53.8614|          10.93|               8.93|         53.8614|\n",
      "|          FDP36|     10.395| 51.4008|         12.395|             10.395|         51.4008|\n",
      "|          FDO10|      13.65| 57.6588|          15.65|              13.65|         57.6588|\n",
      "|          FDP10|        0.0|107.7622|            0.0|                0.0|        107.7622|\n",
      "|          FDH17|       16.2| 96.9726|           18.2|               16.2|         96.9726|\n",
      "|          FDU28|       19.2|187.8214|           21.2|               19.2|        187.8214|\n",
      "|          FDY07|       11.8| 45.5402|           13.8|               11.8|         45.5402|\n",
      "|          FDA03|       18.5|144.1102|           20.5|               18.5|        144.1102|\n",
      "|          FDX32|       15.1|145.4786|           17.1|               15.1|        145.4786|\n",
      "|          FDS46|       17.6|119.6782|           19.6|               17.6|        119.6782|\n",
      "|          FDF32|      16.35|196.4426|          18.35|              16.35|        196.4426|\n",
      "|          FDP49|        9.0| 56.3614|           11.0|                9.0|         56.3614|\n",
      "|          NCB42|       11.8|115.3492|           13.8|               11.8|        115.3492|\n",
      "|          FDP49|        9.0| 54.3614|           11.0|                9.0|         54.3614|\n",
      "|          DRI11|        0.0|113.2834|            0.0|                0.0|        113.2834|\n",
      "|          FDU02|      13.35|230.5352|          15.35|              13.35|        230.5352|\n",
      "+---------------+-----------+--------+---------------+-------------------+----------------+\n",
      "only showing top 20 rows\n",
      "\n"
     ]
    }
   ],
   "source": [
    "df3 = imputer.fit(df2).transform(df2)\n",
    "df3.show()"
   ]
  },
  {
   "cell_type": "code",
   "execution_count": 12,
   "id": "confused-riverside",
   "metadata": {},
   "outputs": [],
   "source": [
    "df3.toPandas().to_csv(\"dataset/test2.csv\", header=True, index=False)"
   ]
  },
  {
   "cell_type": "code",
   "execution_count": null,
   "id": "encouraging-snake",
   "metadata": {},
   "outputs": [],
   "source": []
  }
 ],
 "metadata": {
  "kernelspec": {
   "display_name": "Python 3",
   "language": "python",
   "name": "python3"
  },
  "language_info": {
   "codemirror_mode": {
    "name": "ipython",
    "version": 3
   },
   "file_extension": ".py",
   "mimetype": "text/x-python",
   "name": "python",
   "nbconvert_exporter": "python",
   "pygments_lexer": "ipython3",
   "version": "3.6.11"
  }
 },
 "nbformat": 4,
 "nbformat_minor": 5
}
