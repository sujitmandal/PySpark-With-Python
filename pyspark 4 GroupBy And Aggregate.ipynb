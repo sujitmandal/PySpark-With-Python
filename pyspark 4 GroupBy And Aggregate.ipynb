{
 "cells": [
  {
   "cell_type": "code",
   "execution_count": 1,
   "id": "diverse-jacob",
   "metadata": {},
   "outputs": [],
   "source": [
    "from pyspark.sql import SparkSession\n",
    "spark=SparkSession.builder.appName('test 4').getOrCreate()"
   ]
  },
  {
   "cell_type": "code",
   "execution_count": 2,
   "id": "suffering-aircraft",
   "metadata": {},
   "outputs": [
    {
     "name": "stdout",
     "output_type": "stream",
     "text": [
      "+-----+------+--------+-----------+\n",
      "| Item|Weight|     MRP|MRP_Imputed|\n",
      "+-----+------+--------+-----------+\n",
      "|FDA15|   9.3|249.8092|   249.8092|\n",
      "|DRC01|  5.92| 48.2692|    48.2692|\n",
      "|FDN15|  17.5| 141.618|    141.618|\n",
      "+-----+------+--------+-----------+\n",
      "only showing top 3 rows\n",
      "\n"
     ]
    }
   ],
   "source": [
    "df = spark.read.csv('dataset/test3.csv',header=True,inferSchema=True)\n",
    "df.show(3)"
   ]
  },
  {
   "cell_type": "code",
   "execution_count": 3,
   "id": "civil-performer",
   "metadata": {},
   "outputs": [
    {
     "name": "stdout",
     "output_type": "stream",
     "text": [
      "+-----+------------------+------------------+------------------+\n",
      "| Item|       sum(Weight)|          sum(MRP)|  sum(MRP_Imputed)|\n",
      "+-----+------------------+------------------+------------------+\n",
      "|FDB11|              80.0|          1126.702|          1126.702|\n",
      "|FDO11|              24.0| 996.4368000000001| 996.4368000000001|\n",
      "|DRA24|             96.75|         1148.6076|         1148.6076|\n",
      "|FDU24|             27.12|           562.572|           562.572|\n",
      "|FDW60|             10.88|           529.811|           529.811|\n",
      "|FDW52|              42.0|          656.5104|          656.5104|\n",
      "|FDN15|              87.5| 983.0260000000001| 983.0260000000001|\n",
      "|FDQ20|              33.3|           199.969|           199.969|\n",
      "|FDU10|              40.4|          151.0392|          151.0392|\n",
      "|FDY43|             14.85|          169.7474|          169.7474|\n",
      "|NCL54|              25.2| 526.6161999999999| 526.6161999999999|\n",
      "|FDP39|             63.25|          368.4268|          368.4268|\n",
      "|NCN30|             81.75|           584.646|           584.646|\n",
      "|NCS30|            41.615| 899.4563999999999| 899.4563999999999|\n",
      "|NCW05|              40.5|          217.2876|          217.2876|\n",
      "|NCF42|121.44999999999999|1588.2408000000003|1588.2408000000003|\n",
      "|FDX27|             103.5|           467.818|           467.818|\n",
      "|FDD20|              28.3|          374.2138|          374.2138|\n",
      "|FDW32|             110.1|          603.6174|          603.6174|\n",
      "|NCW18|              45.3|          952.6992|          952.6992|\n",
      "+-----+------------------+------------------+------------------+\n",
      "only showing top 20 rows\n",
      "\n"
     ]
    }
   ],
   "source": [
    "### Grouped to find the maximum salary\n",
    "df.groupBy('Item').sum().show()"
   ]
  },
  {
   "cell_type": "code",
   "execution_count": 4,
   "id": "quality-republic",
   "metadata": {},
   "outputs": [
    {
     "name": "stdout",
     "output_type": "stream",
     "text": [
      "+-----+------------------+------------------+------------------+\n",
      "| Item|       avg(Weight)|          avg(MRP)|  avg(MRP_Imputed)|\n",
      "+-----+------------------+------------------+------------------+\n",
      "|FDB11|              16.0|          225.3404|          225.3404|\n",
      "|FDO11|               6.0|249.10920000000002|249.10920000000002|\n",
      "|DRA24|13.821428571428571|          164.0868|          164.0868|\n",
      "|FDU24|4.5200000000000005|            93.762|            93.762|\n",
      "|FDW60| 3.626666666666667|176.60366666666667|176.60366666666667|\n",
      "|FDW52|              10.5|          164.1276|          164.1276|\n",
      "|FDN15|              12.5| 140.4322857142857| 140.4322857142857|\n",
      "|FDQ20| 6.659999999999999|           39.9938|           39.9938|\n",
      "|FDU10|              10.1|           37.7598|           37.7598|\n",
      "|FDY43|             14.85|          169.7474|          169.7474|\n",
      "|NCL54|               8.4| 175.5387333333333| 175.5387333333333|\n",
      "|FDP39| 9.035714285714286|52.632400000000004|52.632400000000004|\n",
      "|NCN30|            13.625| 97.44099999999999| 97.44099999999999|\n",
      "|NCS30|             5.945|128.49377142857142|128.49377142857142|\n",
      "|NCW05|             20.25|          108.6438|          108.6438|\n",
      "|NCF42|13.494444444444444|176.47120000000004|176.47120000000004|\n",
      "|FDX27|              20.7|           93.5636|           93.5636|\n",
      "|FDD20| 9.433333333333334|124.73793333333333|124.73793333333333|\n",
      "|FDW32|15.728571428571428| 86.23105714285714| 86.23105714285714|\n",
      "|NCW18|            11.325|          238.1748|          238.1748|\n",
      "+-----+------------------+------------------+------------------+\n",
      "only showing top 20 rows\n",
      "\n"
     ]
    }
   ],
   "source": [
    "df.groupBy('Item').avg().show()"
   ]
  },
  {
   "cell_type": "code",
   "execution_count": 5,
   "id": "parallel-luther",
   "metadata": {},
   "outputs": [
    {
     "name": "stdout",
     "output_type": "stream",
     "text": [
      "+-----+------------------+------------------+------------------+\n",
      "| Item|       avg(Weight)|          avg(MRP)|  avg(MRP_Imputed)|\n",
      "+-----+------------------+------------------+------------------+\n",
      "|FDB11|              16.0|          225.3404|          225.3404|\n",
      "|FDO11|               6.0|249.10920000000002|249.10920000000002|\n",
      "|DRA24|13.821428571428571|          164.0868|          164.0868|\n",
      "|FDU24|4.5200000000000005|            93.762|            93.762|\n",
      "|FDW60| 3.626666666666667|176.60366666666667|176.60366666666667|\n",
      "|FDW52|              10.5|          164.1276|          164.1276|\n",
      "|FDN15|              12.5| 140.4322857142857| 140.4322857142857|\n",
      "|FDQ20| 6.659999999999999|           39.9938|           39.9938|\n",
      "|FDU10|              10.1|           37.7598|           37.7598|\n",
      "|FDY43|             14.85|          169.7474|          169.7474|\n",
      "|NCL54|               8.4| 175.5387333333333| 175.5387333333333|\n",
      "|FDP39| 9.035714285714286|52.632400000000004|52.632400000000004|\n",
      "|NCN30|            13.625| 97.44099999999999| 97.44099999999999|\n",
      "|NCS30|             5.945|128.49377142857142|128.49377142857142|\n",
      "|NCW05|             20.25|          108.6438|          108.6438|\n",
      "|NCF42|13.494444444444444|176.47120000000004|176.47120000000004|\n",
      "|FDX27|              20.7|           93.5636|           93.5636|\n",
      "|FDD20| 9.433333333333334|124.73793333333333|124.73793333333333|\n",
      "|FDW32|15.728571428571428| 86.23105714285714| 86.23105714285714|\n",
      "|NCW18|            11.325|          238.1748|          238.1748|\n",
      "+-----+------------------+------------------+------------------+\n",
      "only showing top 20 rows\n",
      "\n"
     ]
    }
   ],
   "source": [
    "df.groupBy('Item').mean().show()"
   ]
  },
  {
   "cell_type": "code",
   "execution_count": 6,
   "id": "prospective-agriculture",
   "metadata": {},
   "outputs": [
    {
     "name": "stdout",
     "output_type": "stream",
     "text": [
      "+-----+-----+\n",
      "| Item|count|\n",
      "+-----+-----+\n",
      "|FDB11|    5|\n",
      "|FDO11|    4|\n",
      "|DRA24|    7|\n",
      "|FDU24|    6|\n",
      "|FDW60|    3|\n",
      "|FDW52|    4|\n",
      "|FDN15|    7|\n",
      "|FDQ20|    5|\n",
      "|FDU10|    4|\n",
      "|FDY43|    1|\n",
      "|NCL54|    3|\n",
      "|FDP39|    7|\n",
      "|NCN30|    6|\n",
      "|NCS30|    7|\n",
      "|NCW05|    2|\n",
      "|NCF42|    9|\n",
      "|FDX27|    5|\n",
      "|FDD20|    3|\n",
      "|FDW32|    7|\n",
      "|NCW18|    4|\n",
      "+-----+-----+\n",
      "only showing top 20 rows\n",
      "\n"
     ]
    }
   ],
   "source": [
    "df.groupBy('Item').count().show()"
   ]
  },
  {
   "cell_type": "code",
   "execution_count": 7,
   "id": "vanilla-generic",
   "metadata": {},
   "outputs": [
    {
     "name": "stdout",
     "output_type": "stream",
     "text": [
      "+------------------+\n",
      "|          sum(MRP)|\n",
      "+------------------+\n",
      "|1201681.4808000007|\n",
      "+------------------+\n",
      "\n"
     ]
    }
   ],
   "source": [
    "df.agg({'MRP':'sum'}).show()"
   ]
  },
  {
   "cell_type": "code",
   "execution_count": 8,
   "id": "every-configuration",
   "metadata": {},
   "outputs": [
    {
     "name": "stdout",
     "output_type": "stream",
     "text": [
      "+------------------+\n",
      "|  sum(MRP_Imputed)|\n",
      "+------------------+\n",
      "|1201681.4808000007|\n",
      "+------------------+\n",
      "\n"
     ]
    }
   ],
   "source": [
    "df.agg({'MRP_Imputed':'sum'}).show()"
   ]
  },
  {
   "cell_type": "code",
   "execution_count": 9,
   "id": "molecular-proposition",
   "metadata": {},
   "outputs": [
    {
     "name": "stdout",
     "output_type": "stream",
     "text": [
      "+-----------------+\n",
      "|      sum(Weight)|\n",
      "+-----------------+\n",
      "|90774.97500000146|\n",
      "+-----------------+\n",
      "\n"
     ]
    }
   ],
   "source": [
    "df.agg({'Weight':'sum'}).show()"
   ]
  },
  {
   "cell_type": "code",
   "execution_count": 10,
   "id": "bigger-secondary",
   "metadata": {},
   "outputs": [
    {
     "name": "stdout",
     "output_type": "stream",
     "text": [
      "+---------+\n",
      "|sum(Item)|\n",
      "+---------+\n",
      "|     null|\n",
      "+---------+\n",
      "\n"
     ]
    }
   ],
   "source": [
    "df.agg({'Item':'sum'}).show()"
   ]
  },
  {
   "cell_type": "code",
   "execution_count": null,
   "id": "second-miracle",
   "metadata": {},
   "outputs": [],
   "source": []
  }
 ],
 "metadata": {
  "kernelspec": {
   "display_name": "Python 3",
   "language": "python",
   "name": "python3"
  },
  "language_info": {
   "codemirror_mode": {
    "name": "ipython",
    "version": 3
   },
   "file_extension": ".py",
   "mimetype": "text/x-python",
   "name": "python",
   "nbconvert_exporter": "python",
   "pygments_lexer": "ipython3",
   "version": "3.6.11"
  }
 },
 "nbformat": 4,
 "nbformat_minor": 5
}
