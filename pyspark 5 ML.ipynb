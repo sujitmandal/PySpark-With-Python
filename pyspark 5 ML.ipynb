{
 "cells": [
  {
   "cell_type": "code",
   "execution_count": 2,
   "id": "explicit-rescue",
   "metadata": {},
   "outputs": [],
   "source": [
    "from pyspark.sql import SparkSession\n",
    "spark=SparkSession.builder.appName('test 5').getOrCreate()"
   ]
  },
  {
   "cell_type": "code",
   "execution_count": 3,
   "id": "inside-negative",
   "metadata": {},
   "outputs": [
    {
     "name": "stdout",
     "output_type": "stream",
     "text": [
      "+-----+------+--------+-----------+\n",
      "| Item|Weight|     MRP|MRP_Imputed|\n",
      "+-----+------+--------+-----------+\n",
      "|FDA15|   9.3|249.8092|   249.8092|\n",
      "|DRC01|  5.92| 48.2692|    48.2692|\n",
      "|FDN15|  17.5| 141.618|    141.618|\n",
      "+-----+------+--------+-----------+\n",
      "only showing top 3 rows\n",
      "\n"
     ]
    }
   ],
   "source": [
    "df = spark.read.csv('dataset/test3.csv',header=True,inferSchema=True)\n",
    "df.show(3)"
   ]
  },
  {
   "cell_type": "code",
   "execution_count": 4,
   "id": "complete-minnesota",
   "metadata": {},
   "outputs": [
    {
     "name": "stdout",
     "output_type": "stream",
     "text": [
      "root\n",
      " |-- Item: string (nullable = true)\n",
      " |-- Weight: double (nullable = true)\n",
      " |-- MRP: double (nullable = true)\n",
      " |-- MRP_Imputed: double (nullable = true)\n",
      "\n"
     ]
    }
   ],
   "source": [
    "df.printSchema()"
   ]
  },
  {
   "cell_type": "code",
   "execution_count": 5,
   "id": "stopped-thursday",
   "metadata": {},
   "outputs": [
    {
     "data": {
      "text/plain": [
       "['Item', 'Weight', 'MRP', 'MRP_Imputed']"
      ]
     },
     "execution_count": 5,
     "metadata": {},
     "output_type": "execute_result"
    }
   ],
   "source": [
    "df.columns"
   ]
  },
  {
   "cell_type": "code",
   "execution_count": 7,
   "id": "outdoor-baker",
   "metadata": {},
   "outputs": [
    {
     "name": "stdout",
     "output_type": "stream",
     "text": [
      "+-----+------+--------+\n",
      "| Item|Weight|     MRP|\n",
      "+-----+------+--------+\n",
      "|FDA15|   9.3|249.8092|\n",
      "|DRC01|  5.92| 48.2692|\n",
      "|FDN15|  17.5| 141.618|\n",
      "+-----+------+--------+\n",
      "only showing top 3 rows\n",
      "\n"
     ]
    }
   ],
   "source": [
    "training = df.drop('MRP_Imputed')\n",
    "training.show(3)"
   ]
  },
  {
   "cell_type": "code",
   "execution_count": 8,
   "id": "focused-julian",
   "metadata": {},
   "outputs": [
    {
     "data": {
      "text/plain": [
       "['Item', 'Weight', 'MRP']"
      ]
     },
     "execution_count": 8,
     "metadata": {},
     "output_type": "execute_result"
    }
   ],
   "source": [
    "training.columns"
   ]
  },
  {
   "cell_type": "code",
   "execution_count": 10,
   "id": "incoming-topic",
   "metadata": {},
   "outputs": [],
   "source": [
    "from pyspark.ml.feature import VectorAssembler\n",
    "featureassembler=VectorAssembler(inputCols=[\"Weight\",\"MRP\"],outputCol=\"Independent Features\")"
   ]
  },
  {
   "cell_type": "code",
   "execution_count": 12,
   "id": "mysterious-south",
   "metadata": {},
   "outputs": [
    {
     "name": "stdout",
     "output_type": "stream",
     "text": [
      "+-----+------+--------+--------------------+\n",
      "| Item|Weight|     MRP|Independent Features|\n",
      "+-----+------+--------+--------------------+\n",
      "|FDA15|   9.3|249.8092|      [9.3,249.8092]|\n",
      "|DRC01|  5.92| 48.2692|      [5.92,48.2692]|\n",
      "|FDN15|  17.5| 141.618|      [17.5,141.618]|\n",
      "|FDX07|  19.2| 182.095|      [19.2,182.095]|\n",
      "|NCD19|  8.93| 53.8614|      [8.93,53.8614]|\n",
      "|FDP36|10.395| 51.4008|    [10.395,51.4008]|\n",
      "|FDO10| 13.65| 57.6588|     [13.65,57.6588]|\n",
      "|FDP10|   0.0|107.7622|      [0.0,107.7622]|\n",
      "|FDH17|  16.2| 96.9726|      [16.2,96.9726]|\n",
      "|FDU28|  19.2|187.8214|     [19.2,187.8214]|\n",
      "|FDY07|  11.8| 45.5402|      [11.8,45.5402]|\n",
      "|FDA03|  18.5|144.1102|     [18.5,144.1102]|\n",
      "|FDX32|  15.1|145.4786|     [15.1,145.4786]|\n",
      "|FDS46|  17.6|119.6782|     [17.6,119.6782]|\n",
      "|FDF32| 16.35|196.4426|    [16.35,196.4426]|\n",
      "|FDP49|   9.0| 56.3614|       [9.0,56.3614]|\n",
      "|NCB42|  11.8|115.3492|     [11.8,115.3492]|\n",
      "|FDP49|   9.0| 54.3614|       [9.0,54.3614]|\n",
      "|DRI11|   0.0|113.2834|      [0.0,113.2834]|\n",
      "|FDU02| 13.35|230.5352|    [13.35,230.5352]|\n",
      "+-----+------+--------+--------------------+\n",
      "only showing top 20 rows\n",
      "\n"
     ]
    }
   ],
   "source": [
    "output=featureassembler.transform(training)\n",
    "output.show()"
   ]
  },
  {
   "cell_type": "code",
   "execution_count": 13,
   "id": "precious-bradford",
   "metadata": {},
   "outputs": [
    {
     "data": {
      "text/plain": [
       "['Item', 'Weight', 'MRP', 'Independent Features']"
      ]
     },
     "execution_count": 13,
     "metadata": {},
     "output_type": "execute_result"
    }
   ],
   "source": [
    "output.columns"
   ]
  },
  {
   "cell_type": "code",
   "execution_count": 14,
   "id": "rough-leeds",
   "metadata": {},
   "outputs": [],
   "source": [
    "finalized_data=output.select(\"Independent Features\",\"MRP\")"
   ]
  },
  {
   "cell_type": "code",
   "execution_count": 15,
   "id": "still-fruit",
   "metadata": {},
   "outputs": [
    {
     "name": "stdout",
     "output_type": "stream",
     "text": [
      "+--------------------+--------+\n",
      "|Independent Features|     MRP|\n",
      "+--------------------+--------+\n",
      "|      [9.3,249.8092]|249.8092|\n",
      "|      [5.92,48.2692]| 48.2692|\n",
      "|      [17.5,141.618]| 141.618|\n",
      "|      [19.2,182.095]| 182.095|\n",
      "|      [8.93,53.8614]| 53.8614|\n",
      "|    [10.395,51.4008]| 51.4008|\n",
      "|     [13.65,57.6588]| 57.6588|\n",
      "|      [0.0,107.7622]|107.7622|\n",
      "|      [16.2,96.9726]| 96.9726|\n",
      "|     [19.2,187.8214]|187.8214|\n",
      "|      [11.8,45.5402]| 45.5402|\n",
      "|     [18.5,144.1102]|144.1102|\n",
      "|     [15.1,145.4786]|145.4786|\n",
      "|     [17.6,119.6782]|119.6782|\n",
      "|    [16.35,196.4426]|196.4426|\n",
      "|       [9.0,56.3614]| 56.3614|\n",
      "|     [11.8,115.3492]|115.3492|\n",
      "|       [9.0,54.3614]| 54.3614|\n",
      "|      [0.0,113.2834]|113.2834|\n",
      "|    [13.35,230.5352]|230.5352|\n",
      "+--------------------+--------+\n",
      "only showing top 20 rows\n",
      "\n"
     ]
    }
   ],
   "source": [
    "finalized_data.show()"
   ]
  },
  {
   "cell_type": "code",
   "execution_count": 17,
   "id": "contrary-brook",
   "metadata": {},
   "outputs": [],
   "source": [
    "from pyspark.ml.regression import LinearRegression\n",
    "##train test split\n",
    "train_data,test_data=finalized_data.randomSplit([0.75,0.25])\n",
    "regressor=LinearRegression(featuresCol='Independent Features', labelCol='MRP')\n",
    "regressor=regressor.fit(train_data)"
   ]
  },
  {
   "cell_type": "code",
   "execution_count": 18,
   "id": "nuclear-salad",
   "metadata": {},
   "outputs": [
    {
     "data": {
      "text/plain": [
       "DenseVector([0.0, 1.0])"
      ]
     },
     "execution_count": 18,
     "metadata": {},
     "output_type": "execute_result"
    }
   ],
   "source": [
    "### Coefficients\n",
    "regressor.coefficients"
   ]
  },
  {
   "cell_type": "code",
   "execution_count": 19,
   "id": "afraid-closing",
   "metadata": {},
   "outputs": [
    {
     "data": {
      "text/plain": [
       "0.0"
      ]
     },
     "execution_count": 19,
     "metadata": {},
     "output_type": "execute_result"
    }
   ],
   "source": [
    "### Intercepts\n",
    "regressor.intercept"
   ]
  },
  {
   "cell_type": "code",
   "execution_count": 20,
   "id": "demanding-drawing",
   "metadata": {},
   "outputs": [],
   "source": [
    "### Prediction\n",
    "pred_results=regressor.evaluate(test_data)"
   ]
  },
  {
   "cell_type": "code",
   "execution_count": 21,
   "id": "fleet-dividend",
   "metadata": {},
   "outputs": [
    {
     "name": "stdout",
     "output_type": "stream",
     "text": [
      "+--------------------+-------+----------+\n",
      "|Independent Features|    MRP|prediction|\n",
      "+--------------------+-------+----------+\n",
      "|       [0.0,34.2216]|34.2216|   34.2216|\n",
      "|       [0.0,35.0558]|35.0558|   35.0558|\n",
      "|       [0.0,35.2532]|35.2532|   35.2532|\n",
      "|       [0.0,35.4558]|35.4558|   35.4558|\n",
      "|       [0.0,36.9874]|36.9874|   36.9874|\n",
      "|       [0.0,37.8506]|37.8506|   37.8506|\n",
      "|       [0.0,37.8822]|37.8822|   37.8822|\n",
      "|        [0.0,39.548]| 39.548|    39.548|\n",
      "|       [0.0,39.9506]|39.9506|   39.9506|\n",
      "|       [0.0,40.2822]|40.2822|   40.2822|\n",
      "|       [0.0,40.9822]|40.9822|   40.9822|\n",
      "|       [0.0,41.2454]|41.2454|   41.2454|\n",
      "|       [0.0,43.2796]|43.2796|   43.2796|\n",
      "|       [0.0,43.4086]|43.4086|   43.4086|\n",
      "|       [0.0,43.4112]|43.4112|   43.4112|\n",
      "|        [0.0,44.377]| 44.377|    44.377|\n",
      "|       [0.0,44.9428]|44.9428|   44.9428|\n",
      "|       [0.0,45.4744]|45.4744|   45.4744|\n",
      "|       [0.0,46.1402]|46.1402|   46.1402|\n",
      "|       [0.0,46.2086]|46.2086|   46.2086|\n",
      "+--------------------+-------+----------+\n",
      "only showing top 20 rows\n",
      "\n"
     ]
    }
   ],
   "source": [
    "pred_results.predictions.show()"
   ]
  },
  {
   "cell_type": "code",
   "execution_count": 22,
   "id": "motivated-rwanda",
   "metadata": {},
   "outputs": [
    {
     "data": {
      "text/plain": [
       "(0.0, 0.0)"
      ]
     },
     "execution_count": 22,
     "metadata": {},
     "output_type": "execute_result"
    }
   ],
   "source": [
    "pred_results.meanAbsoluteError,pred_results.meanSquaredError"
   ]
  },
  {
   "cell_type": "code",
   "execution_count": null,
   "id": "senior-allocation",
   "metadata": {},
   "outputs": [],
   "source": []
  }
 ],
 "metadata": {
  "kernelspec": {
   "display_name": "Python 3",
   "language": "python",
   "name": "python3"
  },
  "language_info": {
   "codemirror_mode": {
    "name": "ipython",
    "version": 3
   },
   "file_extension": ".py",
   "mimetype": "text/x-python",
   "name": "python",
   "nbconvert_exporter": "python",
   "pygments_lexer": "ipython3",
   "version": "3.6.11"
  }
 },
 "nbformat": 4,
 "nbformat_minor": 5
}
